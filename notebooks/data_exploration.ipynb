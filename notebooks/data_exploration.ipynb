{
 "cells": [
  {
   "cell_type": "code",
   "execution_count": 91,
   "metadata": {},
   "outputs": [
    {
     "data": {
      "text/html": [
       "<div>\n",
       "<style scoped>\n",
       "    .dataframe tbody tr th:only-of-type {\n",
       "        vertical-align: middle;\n",
       "    }\n",
       "\n",
       "    .dataframe tbody tr th {\n",
       "        vertical-align: top;\n",
       "    }\n",
       "\n",
       "    .dataframe thead th {\n",
       "        text-align: right;\n",
       "    }\n",
       "</style>\n",
       "<table border=\"1\" class=\"dataframe\">\n",
       "  <thead>\n",
       "    <tr style=\"text-align: right;\">\n",
       "      <th></th>\n",
       "      <th>InvoiceNo</th>\n",
       "      <th>StockCode</th>\n",
       "      <th>Description</th>\n",
       "      <th>Quantity</th>\n",
       "      <th>InvoiceDate</th>\n",
       "      <th>UnitPrice</th>\n",
       "      <th>CustomerID</th>\n",
       "      <th>Country</th>\n",
       "    </tr>\n",
       "  </thead>\n",
       "  <tbody>\n",
       "    <tr>\n",
       "      <th>0</th>\n",
       "      <td>536365</td>\n",
       "      <td>85123A</td>\n",
       "      <td>WHITE HANGING HEART T-LIGHT HOLDER</td>\n",
       "      <td>6</td>\n",
       "      <td>12/1/2010 8:26</td>\n",
       "      <td>2.55</td>\n",
       "      <td>17850.0</td>\n",
       "      <td>United Kingdom</td>\n",
       "    </tr>\n",
       "    <tr>\n",
       "      <th>1</th>\n",
       "      <td>536365</td>\n",
       "      <td>71053</td>\n",
       "      <td>WHITE METAL LANTERN</td>\n",
       "      <td>6</td>\n",
       "      <td>12/1/2010 8:26</td>\n",
       "      <td>3.39</td>\n",
       "      <td>17850.0</td>\n",
       "      <td>United Kingdom</td>\n",
       "    </tr>\n",
       "    <tr>\n",
       "      <th>2</th>\n",
       "      <td>536365</td>\n",
       "      <td>84406B</td>\n",
       "      <td>CREAM CUPID HEARTS COAT HANGER</td>\n",
       "      <td>8</td>\n",
       "      <td>12/1/2010 8:26</td>\n",
       "      <td>2.75</td>\n",
       "      <td>17850.0</td>\n",
       "      <td>United Kingdom</td>\n",
       "    </tr>\n",
       "    <tr>\n",
       "      <th>3</th>\n",
       "      <td>536365</td>\n",
       "      <td>84029G</td>\n",
       "      <td>KNITTED UNION FLAG HOT WATER BOTTLE</td>\n",
       "      <td>6</td>\n",
       "      <td>12/1/2010 8:26</td>\n",
       "      <td>3.39</td>\n",
       "      <td>17850.0</td>\n",
       "      <td>United Kingdom</td>\n",
       "    </tr>\n",
       "    <tr>\n",
       "      <th>4</th>\n",
       "      <td>536365</td>\n",
       "      <td>84029E</td>\n",
       "      <td>RED WOOLLY HOTTIE WHITE HEART.</td>\n",
       "      <td>6</td>\n",
       "      <td>12/1/2010 8:26</td>\n",
       "      <td>3.39</td>\n",
       "      <td>17850.0</td>\n",
       "      <td>United Kingdom</td>\n",
       "    </tr>\n",
       "  </tbody>\n",
       "</table>\n",
       "</div>"
      ],
      "text/plain": [
       "  InvoiceNo StockCode                          Description  Quantity  \\\n",
       "0    536365    85123A   WHITE HANGING HEART T-LIGHT HOLDER         6   \n",
       "1    536365     71053                  WHITE METAL LANTERN         6   \n",
       "2    536365    84406B       CREAM CUPID HEARTS COAT HANGER         8   \n",
       "3    536365    84029G  KNITTED UNION FLAG HOT WATER BOTTLE         6   \n",
       "4    536365    84029E       RED WOOLLY HOTTIE WHITE HEART.         6   \n",
       "\n",
       "      InvoiceDate  UnitPrice  CustomerID         Country  \n",
       "0  12/1/2010 8:26       2.55     17850.0  United Kingdom  \n",
       "1  12/1/2010 8:26       3.39     17850.0  United Kingdom  \n",
       "2  12/1/2010 8:26       2.75     17850.0  United Kingdom  \n",
       "3  12/1/2010 8:26       3.39     17850.0  United Kingdom  \n",
       "4  12/1/2010 8:26       3.39     17850.0  United Kingdom  "
      ]
     },
     "execution_count": 91,
     "metadata": {},
     "output_type": "execute_result"
    }
   ],
   "source": [
    "import pandas as pd\n",
    "import seaborn as sns\n",
    "import numpy as np\n",
    "import matplotlib.pyplot as plt\n",
    "from sklearn.model_selection import train_test_split\n",
    "\n",
    "# Load the CSV file\n",
    "data = pd.read_csv('../data/raw/data.csv',encoding='unicode_escape')\n",
    "\n",
    "# Display the first few rows of the dataframe\n",
    "data.head()"
   ]
  },
  {
   "cell_type": "code",
   "execution_count": 65,
   "metadata": {},
   "outputs": [],
   "source": [
    "data['InvoiceDate']=pd.to_datetime(data['InvoiceDate'])\n"
   ]
  },
  {
   "cell_type": "code",
   "execution_count": 66,
   "metadata": {},
   "outputs": [
    {
     "name": "stdout",
     "output_type": "stream",
     "text": [
      "Number of duplicate rows: 5268\n"
     ]
    }
   ],
   "source": [
    "# Find and show the number of duplicate counts\n",
    "duplicate_count = data.duplicated().sum()\n",
    "print(f'Number of duplicate rows: {duplicate_count}')"
   ]
  },
  {
   "cell_type": "code",
   "execution_count": 67,
   "metadata": {},
   "outputs": [
    {
     "name": "stdout",
     "output_type": "stream",
     "text": [
      "Number of NaNs in each column:\n",
      "InvoiceNo           0\n",
      "StockCode           0\n",
      "Description      1454\n",
      "Quantity            0\n",
      "InvoiceDate         0\n",
      "UnitPrice           0\n",
      "CustomerID     135080\n",
      "Country             0\n",
      "dtype: int64\n"
     ]
    }
   ],
   "source": [
    "# Find and show the number of NaNs in each column\n",
    "nan_count = data.isna().sum()\n",
    "print('Number of NaNs in each column:')\n",
    "print(nan_count)\n"
   ]
  },
  {
   "cell_type": "code",
   "execution_count": 68,
   "metadata": {},
   "outputs": [
    {
     "name": "stdout",
     "output_type": "stream",
     "text": [
      "Rows where quantity is less than or equal to 0:\n",
      "    InvoiceNo StockCode                       Description  Quantity  \\\n",
      "141   C536379         D                          Discount        -1   \n",
      "154   C536383    35004C   SET OF 3 COLOURED  FLYING DUCKS        -1   \n",
      "235   C536391     22556    PLASTERS IN TIN CIRCUS PARADE        -12   \n",
      "236   C536391     21984  PACK OF 12 PINK PAISLEY TISSUES        -24   \n",
      "237   C536391     21983  PACK OF 12 BLUE PAISLEY TISSUES        -24   \n",
      "\n",
      "            InvoiceDate  UnitPrice  CustomerID         Country  \n",
      "141 2010-12-01 09:41:00      27.50     14527.0  United Kingdom  \n",
      "154 2010-12-01 09:49:00       4.65     15311.0  United Kingdom  \n",
      "235 2010-12-01 10:24:00       1.65     17548.0  United Kingdom  \n",
      "236 2010-12-01 10:24:00       0.29     17548.0  United Kingdom  \n",
      "237 2010-12-01 10:24:00       0.29     17548.0  United Kingdom  \n"
     ]
    }
   ],
   "source": [
    "# Find and show where quantity is less than or equal to 0\n",
    "quantity_issues = data[data['Quantity'] <= 0]\n",
    "print('Rows where quantity is less than or equal to 0:')\n",
    "print(quantity_issues.head(5))\n"
   ]
  },
  {
   "cell_type": "code",
   "execution_count": 69,
   "metadata": {},
   "outputs": [
    {
     "name": "stdout",
     "output_type": "stream",
     "text": [
      "Rows where sales price is invalid or equal to 0:\n",
      "     InvoiceNo StockCode Description  Quantity         InvoiceDate  UnitPrice  \\\n",
      "622     536414     22139         NaN        56 2010-12-01 11:52:00        0.0   \n",
      "1970    536545     21134         NaN         1 2010-12-01 14:32:00        0.0   \n",
      "1971    536546     22145         NaN         1 2010-12-01 14:33:00        0.0   \n",
      "1972    536547     37509         NaN         1 2010-12-01 14:33:00        0.0   \n",
      "1987    536549    85226A         NaN         1 2010-12-01 14:34:00        0.0   \n",
      "\n",
      "      CustomerID         Country  \n",
      "622          NaN  United Kingdom  \n",
      "1970         NaN  United Kingdom  \n",
      "1971         NaN  United Kingdom  \n",
      "1972         NaN  United Kingdom  \n",
      "1987         NaN  United Kingdom  \n"
     ]
    }
   ],
   "source": [
    "# Find and show where sales price is invalid or equal to 0\n",
    "invalid_sales_price = data[data['UnitPrice'] <= 0]\n",
    "print('Rows where sales price is invalid or equal to 0:')\n",
    "print(invalid_sales_price.head(5))"
   ]
  },
  {
   "cell_type": "code",
   "execution_count": 70,
   "metadata": {},
   "outputs": [],
   "source": [
    "data.dropna(subset=['CustomerID','Description'],inplace=True)\n",
    "data.drop_duplicates(inplace=True)\n",
    "data=data[data['Quantity']>0]\n",
    "data=data[data['UnitPrice']>0]\n",
    "\n",
    "data.describe()\n",
    "\n",
    "pct_98_quantity=data['Quantity'].quantile(0.98)\n",
    "pct_98_unitprice=data['UnitPrice'].quantile(0.98)\n",
    "\n",
    "removed_outliers=data[(data['Quantity']<pct_98_quantity) &(data['UnitPrice']<pct_98_unitprice)]\n"
   ]
  },
  {
   "cell_type": "code",
   "execution_count": 71,
   "metadata": {},
   "outputs": [
    {
     "data": {
      "text/plain": [
       "<Axes: xlabel='Quantity', ylabel='Count'>"
      ]
     },
     "execution_count": 71,
     "metadata": {},
     "output_type": "execute_result"
    },
    {
     "data": {
      "image/png": "[encoded data removed]",
      "text/plain": [
       "<Figure size 640x480 with 1 Axes>"
      ]
     },
     "metadata": {},
     "output_type": "display_data"
    }
   ],
   "source": [
    "# Distribution \n",
    "sns.histplot(removed_outliers,x='Quantity',bins=20)"
   ]
  },
  {
   "cell_type": "code",
   "execution_count": 72,
   "metadata": {},
   "outputs": [
    {
     "data": {
      "text/plain": [
       "<Axes: xlabel='UnitPrice', ylabel='Count'>"
      ]
     },
     "execution_count": 72,
     "metadata": {},
     "output_type": "execute_result"
    },
    {
     "data": {
      "image/png": "[encoded data removed]",
      "text/plain": [
       "<Figure size 640x480 with 1 Axes>"
      ]
     },
     "metadata": {},
     "output_type": "display_data"
    }
   ],
   "source": [
    "sns.histplot(removed_outliers,x='UnitPrice',bins=20)"
   ]
  },
  {
   "cell_type": "markdown",
   "metadata": {},
   "source": [
    "# Feature Engineering"
   ]
  },
  {
   "cell_type": "code",
   "execution_count": 73,
   "metadata": {},
   "outputs": [],
   "source": [
    "# Converting Customer ID into String.\n",
    "\n",
    "data['Sales']=data['Quantity']*data['UnitPrice']\n",
    "data['CustomerID']=data['CustomerID'].astype(str).str.replace('.0','',regex=False)"
   ]
  },
  {
   "cell_type": "code",
   "execution_count": 74,
   "metadata": {},
   "outputs": [],
   "source": [
    "customer_df=data.groupby('CustomerID').agg({'InvoiceNo':'nunique','Description':'nunique','Sales':'sum','Quantity':'sum'}).reset_index()\n"
   ]
  },
  {
   "cell_type": "code",
   "execution_count": 75,
   "metadata": {},
   "outputs": [],
   "source": [
    "customer_df.rename({'InvoiceNo':'Invoices','Description':'DistinctProducts','Quantity':'OverallQuantity'},axis=1,inplace=True)"
   ]
  },
  {
   "cell_type": "code",
   "execution_count": 76,
   "metadata": {},
   "outputs": [],
   "source": [
    "customer_df['SalesPerInvoice']=round(customer_df['Sales']/customer_df['Invoices'],2)"
   ]
  },
  {
   "cell_type": "code",
   "execution_count": 77,
   "metadata": {},
   "outputs": [],
   "source": [
    "customer_df['ItemsPerInvoice']=round(customer_df['OverallQuantity']/customer_df['Invoices'],2)"
   ]
  },
  {
   "cell_type": "code",
   "execution_count": 78,
   "metadata": {},
   "outputs": [
    {
     "data": {
      "text/html": [
       "<div>\n",
       "<style scoped>\n",
       "    .dataframe tbody tr th:only-of-type {\n",
       "        vertical-align: middle;\n",
       "    }\n",
       "\n",
       "    .dataframe tbody tr th {\n",
       "        vertical-align: top;\n",
       "    }\n",
       "\n",
       "    .dataframe thead th {\n",
       "        text-align: right;\n",
       "    }\n",
       "</style>\n",
       "<table border=\"1\" class=\"dataframe\">\n",
       "  <thead>\n",
       "    <tr style=\"text-align: right;\">\n",
       "      <th></th>\n",
       "      <th>CustomerID</th>\n",
       "      <th>Invoices</th>\n",
       "      <th>DistinctProducts</th>\n",
       "      <th>Sales</th>\n",
       "      <th>OverallQuantity</th>\n",
       "      <th>SalesPerInvoice</th>\n",
       "      <th>ItemsPerInvoice</th>\n",
       "    </tr>\n",
       "  </thead>\n",
       "  <tbody>\n",
       "    <tr>\n",
       "      <th>0</th>\n",
       "      <td>12346</td>\n",
       "      <td>1</td>\n",
       "      <td>1</td>\n",
       "      <td>77183.60</td>\n",
       "      <td>74215</td>\n",
       "      <td>77183.60</td>\n",
       "      <td>74215.00</td>\n",
       "    </tr>\n",
       "    <tr>\n",
       "      <th>1519</th>\n",
       "      <td>14420</td>\n",
       "      <td>1</td>\n",
       "      <td>29</td>\n",
       "      <td>387.52</td>\n",
       "      <td>334</td>\n",
       "      <td>387.52</td>\n",
       "      <td>334.00</td>\n",
       "    </tr>\n",
       "    <tr>\n",
       "      <th>3278</th>\n",
       "      <td>16812</td>\n",
       "      <td>1</td>\n",
       "      <td>15</td>\n",
       "      <td>479.35</td>\n",
       "      <td>81</td>\n",
       "      <td>479.35</td>\n",
       "      <td>81.00</td>\n",
       "    </tr>\n",
       "    <tr>\n",
       "      <th>3284</th>\n",
       "      <td>16820</td>\n",
       "      <td>1</td>\n",
       "      <td>26</td>\n",
       "      <td>497.61</td>\n",
       "      <td>307</td>\n",
       "      <td>497.61</td>\n",
       "      <td>307.00</td>\n",
       "    </tr>\n",
       "    <tr>\n",
       "      <th>3285</th>\n",
       "      <td>16823</td>\n",
       "      <td>1</td>\n",
       "      <td>34</td>\n",
       "      <td>358.38</td>\n",
       "      <td>136</td>\n",
       "      <td>358.38</td>\n",
       "      <td>136.00</td>\n",
       "    </tr>\n",
       "    <tr>\n",
       "      <th>...</th>\n",
       "      <td>...</td>\n",
       "      <td>...</td>\n",
       "      <td>...</td>\n",
       "      <td>...</td>\n",
       "      <td>...</td>\n",
       "      <td>...</td>\n",
       "      <td>...</td>\n",
       "    </tr>\n",
       "    <tr>\n",
       "      <th>1661</th>\n",
       "      <td>14606</td>\n",
       "      <td>93</td>\n",
       "      <td>826</td>\n",
       "      <td>12076.15</td>\n",
       "      <td>6187</td>\n",
       "      <td>129.85</td>\n",
       "      <td>66.53</td>\n",
       "    </tr>\n",
       "    <tr>\n",
       "      <th>562</th>\n",
       "      <td>13089</td>\n",
       "      <td>97</td>\n",
       "      <td>662</td>\n",
       "      <td>58762.08</td>\n",
       "      <td>31025</td>\n",
       "      <td>605.79</td>\n",
       "      <td>319.85</td>\n",
       "    </tr>\n",
       "    <tr>\n",
       "      <th>4010</th>\n",
       "      <td>17841</td>\n",
       "      <td>124</td>\n",
       "      <td>1345</td>\n",
       "      <td>40519.84</td>\n",
       "      <td>22834</td>\n",
       "      <td>326.77</td>\n",
       "      <td>184.15</td>\n",
       "    </tr>\n",
       "    <tr>\n",
       "      <th>1879</th>\n",
       "      <td>14911</td>\n",
       "      <td>201</td>\n",
       "      <td>1816</td>\n",
       "      <td>143711.17</td>\n",
       "      <td>80240</td>\n",
       "      <td>714.98</td>\n",
       "      <td>399.20</td>\n",
       "    </tr>\n",
       "    <tr>\n",
       "      <th>326</th>\n",
       "      <td>12748</td>\n",
       "      <td>209</td>\n",
       "      <td>1778</td>\n",
       "      <td>33053.19</td>\n",
       "      <td>25287</td>\n",
       "      <td>158.15</td>\n",
       "      <td>120.99</td>\n",
       "    </tr>\n",
       "  </tbody>\n",
       "</table>\n",
       "<p>4338 rows × 7 columns</p>\n",
       "</div>"
      ],
      "text/plain": [
       "     CustomerID  Invoices  DistinctProducts      Sales  OverallQuantity  \\\n",
       "0         12346         1                 1   77183.60            74215   \n",
       "1519      14420         1                29     387.52              334   \n",
       "3278      16812         1                15     479.35               81   \n",
       "3284      16820         1                26     497.61              307   \n",
       "3285      16823         1                34     358.38              136   \n",
       "...         ...       ...               ...        ...              ...   \n",
       "1661      14606        93               826   12076.15             6187   \n",
       "562       13089        97               662   58762.08            31025   \n",
       "4010      17841       124              1345   40519.84            22834   \n",
       "1879      14911       201              1816  143711.17            80240   \n",
       "326       12748       209              1778   33053.19            25287   \n",
       "\n",
       "      SalesPerInvoice  ItemsPerInvoice  \n",
       "0            77183.60         74215.00  \n",
       "1519           387.52           334.00  \n",
       "3278           479.35            81.00  \n",
       "3284           497.61           307.00  \n",
       "3285           358.38           136.00  \n",
       "...               ...              ...  \n",
       "1661           129.85            66.53  \n",
       "562            605.79           319.85  \n",
       "4010           326.77           184.15  \n",
       "1879           714.98           399.20  \n",
       "326            158.15           120.99  \n",
       "\n",
       "[4338 rows x 7 columns]"
      ]
     },
     "execution_count": 78,
     "metadata": {},
     "output_type": "execute_result"
    }
   ],
   "source": [
    "customer_df.sort_values('Invoices')"
   ]
  },
  {
   "cell_type": "code",
   "execution_count": 79,
   "metadata": {},
   "outputs": [],
   "source": [
    "overall_max_date=data['InvoiceDate'].max()\n",
    "\n",
    "timerange_df=data.groupby('CustomerID').agg(min_date=('InvoiceDate','min'),max_date=('InvoiceDate','max')).reset_index()\n",
    "\n",
    "timerange_df['DistinctMonths']=((timerange_df['max_date'].dt.year - timerange_df['min_date'].dt.year) * 12 + \n",
    "                                  (timerange_df['max_date'].dt.month - timerange_df['min_date'].dt.month))+1\n",
    "timerange_df['LastBuyMonths']= ((overall_max_date.year - timerange_df['max_date'].dt.year) * 12 + \n",
    "                                  (overall_max_date.month - timerange_df['max_date'].dt.month))+1\n",
    "\n",
    "customer_df=customer_df.merge(timerange_df[['CustomerID','DistinctMonths','LastBuyMonths']],on='CustomerID',how='left')\t"
   ]
  },
  {
   "cell_type": "code",
   "execution_count": 80,
   "metadata": {},
   "outputs": [],
   "source": [
    "customer_df['SalesPerMonth']=round(customer_df['Sales']/customer_df['DistinctMonths'])"
   ]
  },
  {
   "cell_type": "code",
   "execution_count": 87,
   "metadata": {},
   "outputs": [],
   "source": [
    "data['WeekDay']= data['InvoiceDate'].dt.weekday\n",
    "data['is_weekend']=data['InvoiceDate'].dt.weekday >=5\n",
    "\n",
    "weekend_df=data.groupby('CustomerID').agg(uniqueWeekdayInovices=('InvoiceNo',lambda x:len(x[data['is_weekend']==False].unique())),\n",
    "                                          uniqueWeekendInovices=('InvoiceNo',lambda x:len(x[data['is_weekend']==True].unique()))).reset_index()\n",
    "customer_df=pd.merge(customer_df,weekend_df,how='left',on='CustomerID')\n",
    "customer_df['WeekendPct']=customer_df['uniqueWeekendInovices']/customer_df['Invoices']"
   ]
  },
  {
   "cell_type": "code",
   "execution_count": 88,
   "metadata": {},
   "outputs": [
    {
     "data": {
      "image/png": "[encoded data removed]",
      "text/plain": [
       "<Figure size 640x480 with 1 Axes>"
      ]
     },
     "metadata": {},
     "output_type": "display_data"
    }
   ],
   "source": [
    "list_of_columns = ['CustomerID','Invoices','DistinctProducts',\n",
    "                   'SalesPerInvoice','DistinctMonths','SalesPerMonth',\n",
    "                   'LastBuyMonths','WeekendPct']\n",
    "\n",
    "customer_df = customer_df[list_of_columns]\n",
    "\n",
    "# Filter the dataset to include only numeric columns\n",
    "numeric_df = customer_df.select_dtypes(include=['number'])\n",
    "\n",
    "# Correlation matrices rounded to 1 decimal\n",
    "pearson_corr = numeric_df.corr(method='pearson').round(2)\n",
    "\n",
    "# Create a mask to hide the upper triangle\n",
    "mask = np.triu(np.ones_like(pearson_corr, dtype=bool))\n",
    "\n",
    "sns.heatmap(pearson_corr, annot=True, cmap='twilight', center=0, mask=mask, cbar=False)\n",
    "\n",
    "# Adjust layout for better display\n",
    "plt.tight_layout()\n",
    "plt.show()"
   ]
  },
  {
   "cell_type": "code",
   "execution_count": 93,
   "metadata": {},
   "outputs": [],
   "source": [
    "train,test=train_test_split(customer_df, test_size=0.2)"
   ]
  },
  {
   "cell_type": "code",
   "execution_count": 95,
   "metadata": {},
   "outputs": [
    {
     "data": {
      "text/plain": [
       "((3470, 8), (868, 8))"
      ]
     },
     "execution_count": 95,
     "metadata": {},
     "output_type": "execute_result"
    }
   ],
   "source": [
    "train.shape,test.shape"
   ]
  },
  {
   "cell_type": "code",
   "execution_count": null,
   "metadata": {},
   "outputs": [],
   "source": []
  }
 ],
 "metadata": {
  "kernelspec": {
   "display_name": "base",
   "language": "python",
   "name": "python3"
  },
  "language_info": {
   "codemirror_mode": {
    "name": "ipython",
    "version": 3
   },
   "file_extension": ".py",
   "mimetype": "text/x-python",
   "name": "python",
   "nbconvert_exporter": "python",
   "pygments_lexer": "ipython3",
   "version": "3.12.7"
  }
 },
 "nbformat": 4,
 "nbformat_minor": 2
}
